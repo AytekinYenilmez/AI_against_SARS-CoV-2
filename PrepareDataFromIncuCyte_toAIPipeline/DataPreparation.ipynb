{
 "cells": [
  {
   "cell_type": "code",
   "execution_count": null,
   "id": "3c0faa3a",
   "metadata": {},
   "outputs": [],
   "source": [
    "### GOD, JUST CHANGE THE KEYS YOURSELF!!!"
   ]
  },
  {
   "cell_type": "code",
   "execution_count": 12,
   "id": "c0a21ef3",
   "metadata": {},
   "outputs": [],
   "source": [
    "#Thank god-> Starting from Python 3.7, dictionaries maintain the insertion order."
   ]
  },
  {
   "cell_type": "code",
   "execution_count": 1,
   "id": "1bdff076",
   "metadata": {},
   "outputs": [
    {
     "name": "stdout",
     "output_type": "stream",
     "text": [
      "Installing missing packages:\n",
      "Installed opencv\n"
     ]
    }
   ],
   "source": [
    "import importlib\n",
    "import subprocess\n",
    "\n",
    "def check_and_install_packages(package_list):\n",
    "    missing_packages = []\n",
    "    \n",
    "    for package in package_list:\n",
    "        try:\n",
    "            importlib.import_module(package)\n",
    "        except ImportError:\n",
    "            missing_packages.append(package)\n",
    "    \n",
    "    if missing_packages:\n",
    "        print(\"Installing missing packages:\")\n",
    "        for package in missing_packages:\n",
    "            subprocess.run([\"conda\", \"install\", \"-c\", \"conda-forge\", package])\n",
    "            print(f\"Installed {package}\")\n",
    "    else:\n",
    "        print(\"All required packages are already installed.\")\n",
    "\n",
    "# List of packages to check and install if necessary\n",
    "required_packages = [\n",
    "    \"numpy\",\n",
    "    \"matplotlib\",\n",
    "    \"pandas\",\n",
    "    \"opencv\",\n",
    "    \"imageio\",\n",
    "    \"PIL\",\n",
    "    \"torch\",\n",
    "    \"monai\",\n",
    "    \"sys\"\n",
    "]\n",
    "\n",
    "check_and_install_packages(required_packages)"
   ]
  },
  {
   "cell_type": "code",
   "execution_count": 2,
   "id": "eb4b4944",
   "metadata": {},
   "outputs": [
    {
     "name": "stdout",
     "output_type": "stream",
     "text": [
      "3.11.5 | packaged by Anaconda, Inc. | (main, Sep 11 2023, 13:26:23) [MSC v.1916 64 bit (AMD64)]\n"
     ]
    }
   ],
   "source": [
    "import sys\n",
    "print(sys.version)"
   ]
  },
  {
   "cell_type": "code",
   "execution_count": 3,
   "id": "4d5f3763",
   "metadata": {},
   "outputs": [],
   "source": [
    "import numpy as np\n",
    "import matplotlib.pyplot as plt"
   ]
  },
  {
   "cell_type": "code",
   "execution_count": 5,
   "id": "699fe820",
   "metadata": {},
   "outputs": [],
   "source": [
    "import pandas as pd\n",
    "import os\n",
    "import imageio\n",
    "from PIL import Image\n",
    "import imageio.v3 as iio"
   ]
  },
  {
   "cell_type": "code",
   "execution_count": null,
   "id": "2b9d9565",
   "metadata": {},
   "outputs": [],
   "source": []
  },
  {
   "cell_type": "code",
   "execution_count": null,
   "id": "7c8fe0d0",
   "metadata": {},
   "outputs": [],
   "source": [
    "## Raw Dictionary"
   ]
  },
  {
   "cell_type": "code",
   "execution_count": 19,
   "id": "d7167422",
   "metadata": {},
   "outputs": [],
   "source": [
    "import os\n",
    "import cv2 as cv\n",
    "import shutil\n",
    "\n",
    "root_path = r\"E:\\Aytekin\\2007\"\n",
    "target_folders = [\"29\", \"30\"]\n",
    "target_subfolders = [\"244\", \"245\", \"246\", \"247\"]\n",
    "output_path = r\"E:\\Aytekin\\TrainingDataRed\\Input\"\n",
    "key_path_marker = \"2007\"  # The folder from which you want to start the key\n",
    "\n",
    "for folder in target_folders:\n",
    "    folder_path = os.path.join(root_path, folder)\n",
    "    for root, dirs, files in os.walk(folder_path):\n",
    "        for target_subfolder in target_subfolders:\n",
    "            if target_subfolder in dirs:\n",
    "                subfolder_path = os.path.join(root, target_subfolder)\n",
    "                for file_name in os.listdir(subfolder_path):\n",
    "                    if file_name.endswith(\"-C2.tif\") and \"Ph\" not in file_name:\n",
    "                        file_path = os.path.join(subfolder_path, file_name)\n",
    "                        image = cv.imread(file_path, cv.IMREAD_GRAYSCALE)\n",
    "\n",
    "                        # Find the index of the marker in the path\n",
    "                        key_path_position = file_path.split(\"\\\\\").index(key_path_marker)\n",
    "                        \n",
    "                        image_key = file_path.split(\"\\\\\")[key_path_position:]\n",
    "                        image_key = \"_\".join(image_key)\n",
    "                        image_key = image_key.replace(\"C2\", \"red\")\n",
    "                        image_key = image_key.replace(\"2007\", \"R\")\n",
    "                        \n",
    "                        # Replace \"273\", \"274\", \"275\", \"276\" with \"929\", \"926\", \"927\", \"928\" respectively\n",
    "                        for old_num, new_num in zip([\"244\", \"245\", \"246\", \"247\"], [\"934\", \"935\", \"936\", \"937\"]):\n",
    "                            image_key = image_key.replace(old_num, new_num)\n",
    "\n",
    "                        # Construct the output path\n",
    "                        updated_key_path = os.path.join(output_path, image_key)\n",
    "                        #print(updated_key_path)\n",
    "                        #break\n",
    "                        # Copy the image to the output path\n",
    "                        shutil.copy(file_path, updated_key_path)\n"
   ]
  },
  {
   "cell_type": "code",
   "execution_count": 57,
   "id": "0459b26e",
   "metadata": {},
   "outputs": [],
   "source": [
    "## Get the Masks\n",
    "def get_tif_images(folder_path, start_marker):\n",
    "    image_dict = {}\n",
    "\n",
    "    for root, dirs, files in os.walk(folder_path):\n",
    "        for file in files:\n",
    "            if (file.endswith(\"BaC2Labels.tif\") and \"Ph\" not in file and \"Background\" not in file and \"Count\" not in file):\n",
    "                file_path = os.path.join(root, file)\n",
    "                # print(\"File Path:\", file_path)\n",
    "                \n",
    "                subfolder_names = root.split(os.path.sep)[start_marker:]  # Use the starting marker index\n",
    "                image_name = \"_\".join(subfolder_names + [file])  # Concatenate subfolder names and file name\n",
    "                #path_until_image_name = file_path.split(os.path.sep)[:-1]  # Join subfolder names to get the path until the image name\n",
    "                #print(\"Path Until Image Name:\", path_until_image_name)\n",
    "                \n",
    "                #break\n",
    "                #print(image_name)\n",
    "                #break\n",
    "                try:\n",
    "                    #image = imageio.imread(file_path)\n",
    "                    if image is not None:\n",
    "                        new_key = image_name.replace(\"EssenFiles_Jobs\", \"A\")  # Replace \"Jobs\" with \"A\"\n",
    "                        new_key = new_key.replace(\"20y08m\", \"\")  # Remove \"_20y08m\"\n",
    "                        new_key = new_key.replace(\"d\", \"_\")  # Replace \"d\" with \"_\"\n",
    "                        new_key = new_key.replace(\"h\", \"\")\n",
    "                        new_key = new_key.replace(\"BaC2Labels\", \"red\")\n",
    "                        parts = new_key.split(\"_\")\n",
    "                        new_parts = ['R', parts[2], parts[3], parts[1], parts[4]]\n",
    "                        new_key1 = \"_\".join(new_parts)\n",
    "                        \n",
    "                        #print(new_key1)\n",
    "                        #break\n",
    "                        path_until_img_final = os.path.join(\"E:\\Aytekin\\TrainingDataRed\\Segmentation\", new_key1)\n",
    "                        #updated_key_path = os.path.join(path_until_img_final, new_key1)\n",
    "                        #print(file_path)\n",
    "                        #break\n",
    "                        shutil.copy(file_path, path_until_img_final)\n",
    "                        # print(\"Image shape:\", image.shape)\n",
    "                    else:\n",
    "                        print(\"Error loading image:\", file_path)\n",
    "                        pass\n",
    "                        # print(\"Error loading image:\", file_path)\n",
    "                except Exception as e:\n",
    "                    print(\"Error loading image:\", file_path)\n",
    "                    print(\"Exception:\", e)\n",
    "\n",
    "    return image_dict\n",
    "\n"
   ]
  },
  {
   "cell_type": "code",
   "execution_count": 61,
   "id": "74dc7de1",
   "metadata": {},
   "outputs": [],
   "source": [
    "folder_names = ['934', '935', '936', '937']\n",
    "base_path = r'C:\\Users\\ge59gor\\Documents\\CovidMasterThesis\\WholeData\\EssenFiles_Jobs'\n",
    "key_path_marker = \"EssenFiles_Jobs\"\n",
    "\n",
    "analyzed_image_dictionary = {}\n",
    "\n",
    "for folder_name in folder_names:\n",
    "    folder_path = os.path.join(base_path, folder_name)\n",
    "    \n",
    "    # Find the index of the marker in the path\n",
    "    start_marker = folder_path.split(os.path.sep).index(key_path_marker)\n",
    "    \n",
    "    image_dict = get_tif_images(folder_path, start_marker)\n",
    "    analyzed_image_dictionary.update(image_dict)\n"
   ]
  },
  {
   "cell_type": "code",
   "execution_count": null,
   "id": "e7effc78",
   "metadata": {},
   "outputs": [],
   "source": []
  },
  {
   "cell_type": "code",
   "execution_count": null,
   "id": "be200395",
   "metadata": {},
   "outputs": [],
   "source": []
  },
  {
   "cell_type": "code",
   "execution_count": null,
   "id": "759430cd",
   "metadata": {},
   "outputs": [],
   "source": []
  }
 ],
 "metadata": {
  "kernelspec": {
   "display_name": "Python 3 (ipykernel)",
   "language": "python",
   "name": "python3"
  },
  "language_info": {
   "codemirror_mode": {
    "name": "ipython",
    "version": 3
   },
   "file_extension": ".py",
   "mimetype": "text/x-python",
   "name": "python",
   "nbconvert_exporter": "python",
   "pygments_lexer": "ipython3",
   "version": "3.11.5"
  }
 },
 "nbformat": 4,
 "nbformat_minor": 5
}
